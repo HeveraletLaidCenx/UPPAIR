{
 "cells": [
  {
   "cell_type": "markdown",
   "metadata": {},
   "source": [
    "# uppair App Quick Start Notebook"
   ]
  },
  {
   "cell_type": "markdown",
   "metadata": {},
   "source": [
    "## prerequisites\n",
    "\n",
    "since I designed it to **not rely on any third-party modules**...\n",
    "\n",
    "theoretically, as long as you have **a Python environment that's not too outdated**, you should be able to run it."
   ]
  },
  {
   "cell_type": "markdown",
   "metadata": {},
   "source": [
    "## get dependencies tree of package(s)\n",
    "\n",
    "usage:\n",
    "\n",
    "```txt\n",
    "python uppair.py tree [R version] [...pack@ver]\n",
    "```\n",
    "\n",
    "example: \n",
    "\n",
    "```bash\n",
    "python uppair.py tree 4.2.1 NPCD@1.0-11 CDM@7.5-15 GDINA@2.8.8\n",
    "```"
   ]
  },
  {
   "cell_type": "code",
   "execution_count": null,
   "metadata": {},
   "outputs": [],
   "source": [
    "python uppair.py tree 4.2.1 NPCD@1.0-11 CDM@7.5-15 GDINA@2.8.8"
   ]
  },
  {
   "cell_type": "markdown",
   "metadata": {},
   "source": [
    "test"
   ]
  },
  {
   "cell_type": "code",
   "execution_count": null,
   "metadata": {},
   "outputs": [],
   "source": [
    "import os\n",
    "\n",
    "PATH__CACHE = os.path.abspath(\"./cache\")\n",
    "\n",
    "def clear__cache():\n",
    "  print(f\"clear {len(os.listdir(PATH__CACHE))} files...\")\n",
    "  for file_name in os.listdir(PATH__CACHE):\n",
    "    path__file = os.path.join(PATH__CACHE, file_name)\n",
    "    try:\n",
    "      if os.path.isfile(path__file):\n",
    "        os.unlink(path__file)\n",
    "        print(f\"  cache file deleted: {path__file}\")\n",
    "    except Exception as e:\n",
    "      print(f\"!!! FAILED to delete cache file: {path__file}\")\n",
    "  print(\"  done\")\n",
    "\n",
    "clear__cache()"
   ]
  }
 ],
 "metadata": {
  "kernelspec": {
   "display_name": "base",
   "language": "python",
   "name": "python3"
  },
  "language_info": {
   "codemirror_mode": {
    "name": "ipython",
    "version": 3
   },
   "file_extension": ".py",
   "mimetype": "text/x-python",
   "name": "python",
   "nbconvert_exporter": "python",
   "pygments_lexer": "ipython3",
   "version": "3.12.2"
  }
 },
 "nbformat": 4,
 "nbformat_minor": 2
}
